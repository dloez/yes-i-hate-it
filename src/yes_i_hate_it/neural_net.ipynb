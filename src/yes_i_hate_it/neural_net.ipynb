{
 "cells": [
  {
   "cell_type": "code",
   "execution_count": 1,
   "id": "30634cc5",
   "metadata": {},
   "outputs": [],
   "source": [
    "import numpy as np\n",
    "import pandas as pd\n",
    "import matplotlib.pyplot as plt\n",
    "import tensorflow as tf\n",
    "from sqlalchemy.orm import sessionmaker\n",
    "from sqlalchemy import create_engine\n",
    "from pathlib import Path\n",
    "\n",
    "from yes_i_hate_it.gather_tweets import Tweet\n",
    "from yes_i_hate_it.config import TWEETS_DB_PATH"
   ]
  },
  {
   "cell_type": "markdown",
   "id": "2760df60",
   "metadata": {},
   "source": [
    "read dataset"
   ]
  },
  {
   "cell_type": "code",
   "execution_count": 2,
   "id": "9cb8d6b2",
   "metadata": {},
   "outputs": [
    {
     "data": {
      "text/plain": [
       "PosixPath('../../data/tweets.sqlite')"
      ]
     },
     "execution_count": 2,
     "metadata": {},
     "output_type": "execute_result"
    }
   ],
   "source": [
    "data_path = Path('../../')/TWEETS_DB_PATH\n",
    "data_path"
   ]
  },
  {
   "cell_type": "code",
   "execution_count": 3,
   "id": "1cdfd4c3",
   "metadata": {},
   "outputs": [
    {
     "name": "stdout",
     "output_type": "stream",
     "text": [
      "<class 'list'>\n"
     ]
    }
   ],
   "source": [
    "engine = create_engine(f'sqlite:///{data_path}')\n",
    "session_maker = sessionmaker(bind=engine)\n",
    "session = session_maker()\n",
    "tweets = session.query(Tweet).filter(Tweet.processed==False).all()\n",
    "print(type(tweets))"
   ]
  },
  {
   "cell_type": "code",
   "execution_count": 4,
   "id": "ca018ffb",
   "metadata": {},
   "outputs": [
    {
     "name": "stderr",
     "output_type": "stream",
     "text": [
      "[nltk_data] Downloading package stopwords to /home/inigo/nltk_data...\n",
      "[nltk_data]   Package stopwords is already up-to-date!\n"
     ]
    },
    {
     "data": {
      "text/html": [
       "<div>\n",
       "<style scoped>\n",
       "    .dataframe tbody tr th:only-of-type {\n",
       "        vertical-align: middle;\n",
       "    }\n",
       "\n",
       "    .dataframe tbody tr th {\n",
       "        vertical-align: top;\n",
       "    }\n",
       "\n",
       "    .dataframe thead th {\n",
       "        text-align: right;\n",
       "    }\n",
       "</style>\n",
       "<table border=\"1\" class=\"dataframe\">\n",
       "  <thead>\n",
       "    <tr style=\"text-align: right;\">\n",
       "      <th></th>\n",
       "      <th>text</th>\n",
       "      <th>is_football</th>\n",
       "    </tr>\n",
       "  </thead>\n",
       "  <tbody>\n",
       "    <tr>\n",
       "      <th>0</th>\n",
       "      <td>RT @LaLiga: 2015/16 🏆👊\\n2016/17 🏆👊\\n2017/18 🏆👊...</td>\n",
       "      <td>1</td>\n",
       "    </tr>\n",
       "    <tr>\n",
       "      <th>1</th>\n",
       "      <td>RT @Atleti: La familia atlética está de luto. ...</td>\n",
       "      <td>1</td>\n",
       "    </tr>\n",
       "    <tr>\n",
       "      <th>2</th>\n",
       "      <td>El fichaje de Mario Hermoso se congela.\\n\\nAl ...</td>\n",
       "      <td>1</td>\n",
       "    </tr>\n",
       "    <tr>\n",
       "      <th>3</th>\n",
       "      <td>#FernandoTorres: \"No se a quién echarán más de...</td>\n",
       "      <td>1</td>\n",
       "    </tr>\n",
       "    <tr>\n",
       "      <th>4</th>\n",
       "      <td>James Rodríguez esperaría al Atlético.\\n\\nEl j...</td>\n",
       "      <td>1</td>\n",
       "    </tr>\n",
       "    <tr>\n",
       "      <th>...</th>\n",
       "      <td>...</td>\n",
       "      <td>...</td>\n",
       "    </tr>\n",
       "    <tr>\n",
       "      <th>11140</th>\n",
       "      <td>RT @ESLspain: #ENDIRECTO 🖥\\n🔴 Estamos ON, en l...</td>\n",
       "      <td>0</td>\n",
       "    </tr>\n",
       "    <tr>\n",
       "      <th>11141</th>\n",
       "      <td>RT @Boltz: Gg 9-16 vs Furia, n entrei no game ...</td>\n",
       "      <td>0</td>\n",
       "    </tr>\n",
       "    <tr>\n",
       "      <th>11142</th>\n",
       "      <td>RT @Yusef210: Vamos con el ultimo Bo1 del día,...</td>\n",
       "      <td>0</td>\n",
       "    </tr>\n",
       "    <tr>\n",
       "      <th>11143</th>\n",
       "      <td>¡Felicidades a todo el equipo de @hora25! \\n\\n...</td>\n",
       "      <td>0</td>\n",
       "    </tr>\n",
       "    <tr>\n",
       "      <th>11144</th>\n",
       "      <td>RT @Muit0z: Vamos a por el ultimo bo1 que cast...</td>\n",
       "      <td>0</td>\n",
       "    </tr>\n",
       "  </tbody>\n",
       "</table>\n",
       "<p>11145 rows × 2 columns</p>\n",
       "</div>"
      ],
      "text/plain": [
       "                                                    text  is_football\n",
       "0      RT @LaLiga: 2015/16 🏆👊\\n2016/17 🏆👊\\n2017/18 🏆👊...            1\n",
       "1      RT @Atleti: La familia atlética está de luto. ...            1\n",
       "2      El fichaje de Mario Hermoso se congela.\\n\\nAl ...            1\n",
       "3      #FernandoTorres: \"No se a quién echarán más de...            1\n",
       "4      James Rodríguez esperaría al Atlético.\\n\\nEl j...            1\n",
       "...                                                  ...          ...\n",
       "11140  RT @ESLspain: #ENDIRECTO 🖥\\n🔴 Estamos ON, en l...            0\n",
       "11141  RT @Boltz: Gg 9-16 vs Furia, n entrei no game ...            0\n",
       "11142  RT @Yusef210: Vamos con el ultimo Bo1 del día,...            0\n",
       "11143  ¡Felicidades a todo el equipo de @hora25! \\n\\n...            0\n",
       "11144  RT @Muit0z: Vamos a por el ultimo bo1 que cast...            0\n",
       "\n",
       "[11145 rows x 2 columns]"
      ]
     },
     "execution_count": 4,
     "metadata": {},
     "output_type": "execute_result"
    }
   ],
   "source": [
    "from yes_i_hate_it.generate_bow import process_text\n",
    "\n",
    "d = {'text': [tweet.text for tweet in tweets],\n",
    "     'is_football': [1 if tweet.is_football else 0 for tweet in tweets]}\n",
    "\n",
    "data = pd.DataFrame(d)\n",
    "\n",
    "data"
   ]
  },
  {
   "cell_type": "code",
   "execution_count": 5,
   "id": "040a04bb",
   "metadata": {},
   "outputs": [
    {
     "name": "stderr",
     "output_type": "stream",
     "text": [
      "[nltk_data] Downloading package stopwords to /home/inigo/nltk_data...\n",
      "[nltk_data]   Package stopwords is already up-to-date!\n"
     ]
    },
    {
     "name": "stdout",
     "output_type": "stream",
     "text": [
      "<class 'str'>\n"
     ]
    },
    {
     "data": {
      "text/html": [
       "<div>\n",
       "<style scoped>\n",
       "    .dataframe tbody tr th:only-of-type {\n",
       "        vertical-align: middle;\n",
       "    }\n",
       "\n",
       "    .dataframe tbody tr th {\n",
       "        vertical-align: top;\n",
       "    }\n",
       "\n",
       "    .dataframe thead th {\n",
       "        text-align: right;\n",
       "    }\n",
       "</style>\n",
       "<table border=\"1\" class=\"dataframe\">\n",
       "  <thead>\n",
       "    <tr style=\"text-align: right;\">\n",
       "      <th></th>\n",
       "      <th>text</th>\n",
       "      <th>is_football</th>\n",
       "      <th>pp_text</th>\n",
       "      <th>n_words</th>\n",
       "    </tr>\n",
       "  </thead>\n",
       "  <tbody>\n",
       "    <tr>\n",
       "      <th>0</th>\n",
       "      <td>Mi capitán, mi eterno 14. https://t.co/WaRn7T5BKR</td>\n",
       "      <td>1</td>\n",
       "      <td>mi capitan mi etern 14 https t co warn7t5bkr</td>\n",
       "      <td>9</td>\n",
       "    </tr>\n",
       "    <tr>\n",
       "      <th>1</th>\n",
       "      <td>El Real de Madrid se ha llevado un partido sin...</td>\n",
       "      <td>1</td>\n",
       "      <td>el real de madr se ha llev un part sin hac abs...</td>\n",
       "      <td>17</td>\n",
       "    </tr>\n",
       "    <tr>\n",
       "      <th>2</th>\n",
       "      <td>RT @LaLiga: ⚽🌟 #CeltaRealMadrid\\n\\n🎙 @sergiog0...</td>\n",
       "      <td>0</td>\n",
       "      <td>rt lalig celtarealmadr sergiog0tt y alexgutnav...</td>\n",
       "      <td>12</td>\n",
       "    </tr>\n",
       "    <tr>\n",
       "      <th>3</th>\n",
       "      <td>Procedo a ver Star Wars: La venganza de los Si...</td>\n",
       "      <td>0</td>\n",
       "      <td>proced a ver star wars la venganz de los sith ...</td>\n",
       "      <td>25</td>\n",
       "    </tr>\n",
       "    <tr>\n",
       "      <th>4</th>\n",
       "      <td>RT @Atleti: 𝗥𝗧 si ❤ a este chico. https://t.co...</td>\n",
       "      <td>1</td>\n",
       "      <td>rt atleti 𝗥𝗧 si a este chic https t co uont7bwp7n</td>\n",
       "      <td>11</td>\n",
       "    </tr>\n",
       "  </tbody>\n",
       "</table>\n",
       "</div>"
      ],
      "text/plain": [
       "                                                text  is_football  \\\n",
       "0  Mi capitán, mi eterno 14. https://t.co/WaRn7T5BKR            1   \n",
       "1  El Real de Madrid se ha llevado un partido sin...            1   \n",
       "2  RT @LaLiga: ⚽🌟 #CeltaRealMadrid\\n\\n🎙 @sergiog0...            0   \n",
       "3  Procedo a ver Star Wars: La venganza de los Si...            0   \n",
       "4  RT @Atleti: 𝗥𝗧 si ❤ a este chico. https://t.co...            1   \n",
       "\n",
       "                                             pp_text  n_words  \n",
       "0       mi capitan mi etern 14 https t co warn7t5bkr        9  \n",
       "1  el real de madr se ha llev un part sin hac abs...       17  \n",
       "2  rt lalig celtarealmadr sergiog0tt y alexgutnav...       12  \n",
       "3  proced a ver star wars la venganz de los sith ...       25  \n",
       "4  rt atleti 𝗥𝗧 si a este chic https t co uont7bwp7n       11  "
      ]
     },
     "execution_count": 5,
     "metadata": {},
     "output_type": "execute_result"
    }
   ],
   "source": [
    "import nltk\n",
    "nltk.download('stopwords')\n",
    "\n",
    "from nltk.stem.snowball import SnowballStemmer\n",
    "from nltk.tokenize import RegexpTokenizer\n",
    "\n",
    "tokenizer = RegexpTokenizer(r'\\w+')\n",
    "stemmer = SnowballStemmer(\"spanish\",ignore_stopwords=True)\n",
    "\n",
    "preprocessed_text = []\n",
    "for i in data.text:\n",
    "    tokens = [stemmer.stem(word) for word in tokenizer.tokenize(i.lower())]\n",
    "    preprocessed_text.append(np.array(' '.join(tokens)))\n",
    "    \n",
    "data['pp_text'] = preprocessed_text\n",
    "data['pp_text'] = data['pp_text'].astype('str')\n",
    "print(type(data['pp_text'][0]))\n",
    "data['n_words'] = data['pp_text'].str.split().apply(len)\n",
    "\n",
    "data = data.sample(frac=1).reset_index(drop=True)\n",
    "\n",
    "data.head()"
   ]
  },
  {
   "cell_type": "code",
   "execution_count": 6,
   "id": "42c90b52",
   "metadata": {},
   "outputs": [
    {
     "data": {
      "text/plain": [
       "<AxesSubplot:>"
      ]
     },
     "execution_count": 6,
     "metadata": {},
     "output_type": "execute_result"
    },
    {
     "data": {
      "image/png": "[encoded data removed]",
      "text/plain": [
       "<Figure size 432x288 with 1 Axes>"
      ]
     },
     "metadata": {
      "needs_background": "light"
     },
     "output_type": "display_data"
    }
   ],
   "source": [
    "data['n_words'].hist()"
   ]
  },
  {
   "cell_type": "code",
   "execution_count": 7,
   "id": "77876c58",
   "metadata": {},
   "outputs": [],
   "source": [
    "from tensorflow.keras import preprocessing\n",
    "\n",
    "tokenizer = preprocessing.text.Tokenizer()\n",
    "\n",
    "tokenizer.fit_on_texts(data['pp_text'])\n"
   ]
  },
  {
   "cell_type": "code",
   "execution_count": 8,
   "id": "59f165ec",
   "metadata": {},
   "outputs": [],
   "source": [
    "def generator(data, size):\n",
    "    idx = 0\n",
    "    \n",
    "    while True:\n",
    "        data_nxt = data.iloc[idx:idx+size]\n",
    "        max_len = data_nxt['n_words'].max()+1\n",
    "        \n",
    "        x_batch = preprocessing.sequence.pad_sequences(tokenizer.texts_to_sequences(data_nxt['pp_text']), max_len)\n",
    "        y_batch = data_nxt['is_football'].values\n",
    "        \n",
    "        yield x_batch, y_batch\n",
    "        \n",
    "        idx = (idx + size) % len(data)"
   ]
  },
  {
   "cell_type": "code",
   "execution_count": 9,
   "id": "70a0d7e4",
   "metadata": {},
   "outputs": [
    {
     "name": "stderr",
     "output_type": "stream",
     "text": [
      "2022-07-22 20:51:14.167131: I tensorflow/stream_executor/cuda/cuda_gpu_executor.cc:975] successful NUMA node read from SysFS had negative value (-1), but there must be at least one NUMA node, so returning NUMA node zero\n",
      "2022-07-22 20:51:14.247995: W tensorflow/stream_executor/platform/default/dso_loader.cc:64] Could not load dynamic library 'libcudnn.so.8'; dlerror: libcudnn.so.8: cannot open shared object file: No such file or directory\n",
      "2022-07-22 20:51:14.248020: W tensorflow/core/common_runtime/gpu/gpu_device.cc:1850] Cannot dlopen some GPU libraries. Please make sure the missing libraries mentioned above are installed properly if you would like to use GPU. Follow the guide at https://www.tensorflow.org/install/gpu for how to download and setup the required libraries for your platform.\n",
      "Skipping registering GPU devices...\n",
      "2022-07-22 20:51:14.249648: I tensorflow/core/platform/cpu_feature_guard.cc:193] This TensorFlow binary is optimized with oneAPI Deep Neural Network Library (oneDNN) to use the following CPU instructions in performance-critical operations:  AVX2 FMA\n",
      "To enable them in other operations, rebuild TensorFlow with the appropriate compiler flags.\n"
     ]
    }
   ],
   "source": [
    "from tensorflow.keras import Sequential, layers\n",
    "\n",
    "max_features = 1+len(tokenizer.word_index)\n",
    "embedding_dims = 100\n",
    "N = 128\n",
    "\n",
    "\n",
    "model = Sequential(\n",
    "    [\n",
    "        layers.InputLayer((None,)),\n",
    "        layers.Embedding(input_dim=max_features, output_dim=embedding_dims),\n",
    "        layers.Dropout(0.2),\n",
    "        layers.LSTM(units=N, return_sequences=True),\n",
    "        layers.LSTM(units=N, return_sequences=True),\n",
    "        layers.LSTM(units=N, return_sequences=True),\n",
    "        layers.LSTM(units=N),\n",
    "        layers.Dense(1, activation='sigmoid')\n",
    "    ]\n",
    ")\n",
    "\n",
    "model.compile(optimizer = 'adam', loss = 'binary_crossentropy')"
   ]
  },
  {
   "cell_type": "code",
   "execution_count": 10,
   "id": "407decda",
   "metadata": {},
   "outputs": [],
   "source": [
    "n = int(len(data)*0.9)\n",
    "\n",
    "data_train = data.iloc[:n].copy()\n",
    "data_test = data.iloc[n:].copy()"
   ]
  },
  {
   "cell_type": "code",
   "execution_count": 11,
   "id": "346be335",
   "metadata": {},
   "outputs": [
    {
     "data": {
      "text/plain": [
       "0             mi capitan mi etern 14 https t co warn7t5bkr\n",
       "1        el real de madr se ha llev un part sin hac abs...\n",
       "2        rt lalig celtarealmadr sergiog0tt y alexgutnav...\n",
       "3        proced a ver star wars la venganz de los sith ...\n",
       "4        rt atleti 𝗥𝗧 si a este chic https t co uont7bwp7n\n",
       "                               ...                        \n",
       "10025    porciert la ultim jug que el porter del sevill...\n",
       "10026    nacho8gonz escuch que ha sid peticion expres d...\n",
       "10027    europ deb defend a su ciudadan no pued ser un ...\n",
       "10028    gallegohumbert no cre que exist un maltrat al ...\n",
       "10029    atletimedi awards rewind 2021 con peñit del at...\n",
       "Name: pp_text, Length: 10030, dtype: object"
      ]
     },
     "execution_count": 11,
     "metadata": {},
     "output_type": "execute_result"
    }
   ],
   "source": [
    "data_train['pp_text']"
   ]
  },
  {
   "cell_type": "code",
   "execution_count": 12,
   "id": "43b47873",
   "metadata": {},
   "outputs": [
    {
     "name": "stdout",
     "output_type": "stream",
     "text": [
      "Epoch 1/25\n",
      "313/313 [==============================] - 32s 88ms/step - loss: 0.3782 - val_loss: 0.2879\n",
      "Epoch 2/25\n",
      "313/313 [==============================] - 27s 85ms/step - loss: 0.1914 - val_loss: 0.1302\n",
      "Epoch 3/25\n",
      "313/313 [==============================] - 31s 98ms/step - loss: 0.1078 - val_loss: 0.0861\n",
      "Epoch 4/25\n",
      "313/313 [==============================] - 30s 95ms/step - loss: 0.0692 - val_loss: 0.0068\n",
      "Epoch 5/25\n",
      "313/313 [==============================] - 30s 97ms/step - loss: 0.0488 - val_loss: 0.0924\n",
      "Epoch 6/25\n",
      "313/313 [==============================] - 30s 97ms/step - loss: 0.0323 - val_loss: 0.0031\n",
      "Epoch 7/25\n",
      "313/313 [==============================] - 31s 98ms/step - loss: 0.0293 - val_loss: 0.0186\n",
      "Epoch 8/25\n",
      "313/313 [==============================] - 31s 98ms/step - loss: 0.0292 - val_loss: 0.0429\n",
      "Epoch 9/25\n",
      "313/313 [==============================] - 31s 99ms/step - loss: 0.0291 - val_loss: 0.0403\n",
      "Epoch 10/25\n",
      "313/313 [==============================] - 33s 107ms/step - loss: 0.0253 - val_loss: 0.0437\n",
      "Epoch 11/25\n",
      "313/313 [==============================] - 35s 113ms/step - loss: 0.0196 - val_loss: 9.8541e-04\n",
      "Epoch 12/25\n",
      "313/313 [==============================] - 34s 110ms/step - loss: 0.0141 - val_loss: 0.0441\n",
      "Epoch 13/25\n",
      "313/313 [==============================] - 33s 106ms/step - loss: 0.0125 - val_loss: 0.0044\n",
      "Epoch 14/25\n",
      "313/313 [==============================] - 32s 103ms/step - loss: 0.0101 - val_loss: 0.0017\n",
      "Epoch 15/25\n",
      "313/313 [==============================] - 32s 103ms/step - loss: 0.0113 - val_loss: 0.0074\n",
      "Epoch 16/25\n",
      "313/313 [==============================] - 32s 104ms/step - loss: 0.0123 - val_loss: 0.0719\n",
      "Epoch 17/25\n",
      "313/313 [==============================] - 33s 105ms/step - loss: 0.0107 - val_loss: 0.0099\n",
      "Epoch 18/25\n",
      "313/313 [==============================] - 33s 106ms/step - loss: 0.0103 - val_loss: 1.7225e-04\n",
      "Epoch 19/25\n",
      "313/313 [==============================] - 34s 107ms/step - loss: 0.0094 - val_loss: 3.4382e-04\n",
      "Epoch 20/25\n",
      "313/313 [==============================] - 34s 108ms/step - loss: 0.0135 - val_loss: 0.0056\n",
      "Epoch 21/25\n",
      "313/313 [==============================] - 35s 111ms/step - loss: 0.0136 - val_loss: 0.0044\n",
      "Epoch 22/25\n",
      "313/313 [==============================] - 34s 108ms/step - loss: 0.0075 - val_loss: 1.6461e-04\n",
      "Epoch 23/25\n",
      "313/313 [==============================] - 34s 109ms/step - loss: 0.0062 - val_loss: 0.0197\n",
      "Epoch 24/25\n",
      "313/313 [==============================] - 34s 110ms/step - loss: 0.0060 - val_loss: 8.1848e-05\n",
      "Epoch 25/25\n",
      "313/313 [==============================] - 35s 111ms/step - loss: 0.0088 - val_loss: 0.0138\n"
     ]
    }
   ],
   "source": [
    "gen_train = generator(data_train, 32)\n",
    "gen_val = generator(data_train, 32)\n",
    "\n",
    "history = model.fit(\n",
    "    gen_train,\n",
    "    steps_per_epoch = len(data_train) // 32,\n",
    "    epochs = 25,\n",
    "    validation_data = gen_val,\n",
    "    validation_steps = 4,\n",
    "    batch_size = 32\n",
    ")"
   ]
  },
  {
   "cell_type": "code",
   "execution_count": 13,
   "id": "ef844612",
   "metadata": {},
   "outputs": [
    {
     "data": {
      "image/png": "[encoded data removed]",
      "text/plain": [
       "<Figure size 432x288 with 1 Axes>"
      ]
     },
     "metadata": {
      "needs_background": "light"
     },
     "output_type": "display_data"
    }
   ],
   "source": [
    "import matplotlib.pyplot as plt\n",
    "\n",
    "def plot_learning_curves(hist):\n",
    "    plt.plot(hist.history['loss'])\n",
    "    plt.plot(hist.history['val_loss'])\n",
    "    plt.title('Curvas de aprendizaje')\n",
    "    plt.ylabel('Loss')\n",
    "    plt.xlabel('Epoch')  \n",
    "    plt.legend(['Conjunto de entrenamiento', 'Conjunto de validación'], loc='upper right')\n",
    "    plt.show()\n",
    "\n",
    "plot_learning_curves(history)"
   ]
  },
  {
   "cell_type": "code",
   "execution_count": 14,
   "id": "5763196b",
   "metadata": {},
   "outputs": [
    {
     "name": "stdout",
     "output_type": "stream",
     "text": [
      "1/1 [==============================] - 1s 1s/step\n",
      "1/1 [==============================] - 1s 1s/step\n",
      "1/1 [==============================] - 0s 37ms/step\n",
      "1/1 [==============================] - 0s 35ms/step\n",
      "1/1 [==============================] - 0s 34ms/step\n",
      "1/1 [==============================] - 0s 32ms/step\n",
      "1/1 [==============================] - 0s 33ms/step\n",
      "1/1 [==============================] - 0s 35ms/step\n",
      "1/1 [==============================] - 0s 37ms/step\n",
      "1/1 [==============================] - 0s 43ms/step\n",
      "1/1 [==============================] - 0s 40ms/step\n",
      "1/1 [==============================] - 0s 44ms/step\n",
      "1/1 [==============================] - 0s 40ms/step\n",
      "1/1 [==============================] - 0s 37ms/step\n",
      "1/1 [==============================] - 0s 35ms/step\n",
      "1/1 [==============================] - 0s 34ms/step\n",
      "1/1 [==============================] - 0s 35ms/step\n",
      "1/1 [==============================] - 0s 43ms/step\n",
      "1/1 [==============================] - 0s 45ms/step\n",
      "1/1 [==============================] - 0s 42ms/step\n",
      "1/1 [==============================] - 0s 44ms/step\n",
      "1/1 [==============================] - 0s 32ms/step\n",
      "1/1 [==============================] - 0s 34ms/step\n",
      "1/1 [==============================] - 0s 36ms/step\n",
      "1/1 [==============================] - 0s 37ms/step\n",
      "1/1 [==============================] - 0s 40ms/step\n",
      "1/1 [==============================] - 0s 39ms/step\n",
      "1/1 [==============================] - 0s 40ms/step\n",
      "1/1 [==============================] - 0s 34ms/step\n",
      "1/1 [==============================] - 0s 42ms/step\n",
      "1/1 [==============================] - 0s 41ms/step\n",
      "1/1 [==============================] - 0s 40ms/step\n",
      "1/1 [==============================] - 0s 41ms/step\n",
      "1/1 [==============================] - 0s 38ms/step\n",
      "1/1 [==============================] - 1s 1s/step\n"
     ]
    },
    {
     "ename": "ValueError",
     "evalue": "Classification metrics can't handle a mix of binary and continuous targets",
     "output_type": "error",
     "traceback": [
      "\u001b[0;31m---------------------------------------------------------------------------\u001b[0m",
      "\u001b[0;31mValueError\u001b[0m                                Traceback (most recent call last)",
      "Input \u001b[0;32mIn [14]\u001b[0m, in \u001b[0;36m<cell line: 17>\u001b[0;34m()\u001b[0m\n\u001b[1;32m     14\u001b[0m     y_test \u001b[38;5;241m+\u001b[39m\u001b[38;5;241m=\u001b[39m \u001b[38;5;28mlist\u001b[39m(y_test_batch)\n\u001b[1;32m     15\u001b[0m     y_pred \u001b[38;5;241m+\u001b[39m\u001b[38;5;241m=\u001b[39m \u001b[38;5;28mlist\u001b[39m(y_pred_batch)\n\u001b[0;32m---> 17\u001b[0m \u001b[38;5;28mprint\u001b[39m(\u001b[38;5;124mf\u001b[39m\u001b[38;5;124m\"\u001b[39m\u001b[38;5;124mtest \u001b[39m\u001b[38;5;132;01m{\u001b[39;00msklearn\u001b[38;5;241m.\u001b[39mmetrics\u001b[38;5;241m.\u001b[39mf1_score(y_test, y_pred)\u001b[38;5;132;01m}\u001b[39;00m\u001b[38;5;124m\"\u001b[39m)\n",
      "File \u001b[0;32m~/.local/share/virtualenvs/yes-i-hate-it-v7PC6w8P/lib/python3.8/site-packages/sklearn/metrics/_classification.py:1132\u001b[0m, in \u001b[0;36mf1_score\u001b[0;34m(y_true, y_pred, labels, pos_label, average, sample_weight, zero_division)\u001b[0m\n\u001b[1;32m    997\u001b[0m \u001b[38;5;28;01mdef\u001b[39;00m \u001b[38;5;21mf1_score\u001b[39m(\n\u001b[1;32m    998\u001b[0m     y_true,\n\u001b[1;32m    999\u001b[0m     y_pred,\n\u001b[0;32m   (...)\u001b[0m\n\u001b[1;32m   1005\u001b[0m     zero_division\u001b[38;5;241m=\u001b[39m\u001b[38;5;124m\"\u001b[39m\u001b[38;5;124mwarn\u001b[39m\u001b[38;5;124m\"\u001b[39m,\n\u001b[1;32m   1006\u001b[0m ):\n\u001b[1;32m   1007\u001b[0m     \u001b[38;5;124;03m\"\"\"Compute the F1 score, also known as balanced F-score or F-measure.\u001b[39;00m\n\u001b[1;32m   1008\u001b[0m \n\u001b[1;32m   1009\u001b[0m \u001b[38;5;124;03m    The F1 score can be interpreted as a harmonic mean of the precision and\u001b[39;00m\n\u001b[0;32m   (...)\u001b[0m\n\u001b[1;32m   1130\u001b[0m \u001b[38;5;124;03m    array([0.66666667, 1.        , 0.66666667])\u001b[39;00m\n\u001b[1;32m   1131\u001b[0m \u001b[38;5;124;03m    \"\"\"\u001b[39;00m\n\u001b[0;32m-> 1132\u001b[0m     \u001b[38;5;28;01mreturn\u001b[39;00m \u001b[43mfbeta_score\u001b[49m\u001b[43m(\u001b[49m\n\u001b[1;32m   1133\u001b[0m \u001b[43m        \u001b[49m\u001b[43my_true\u001b[49m\u001b[43m,\u001b[49m\n\u001b[1;32m   1134\u001b[0m \u001b[43m        \u001b[49m\u001b[43my_pred\u001b[49m\u001b[43m,\u001b[49m\n\u001b[1;32m   1135\u001b[0m \u001b[43m        \u001b[49m\u001b[43mbeta\u001b[49m\u001b[38;5;241;43m=\u001b[39;49m\u001b[38;5;241;43m1\u001b[39;49m\u001b[43m,\u001b[49m\n\u001b[1;32m   1136\u001b[0m \u001b[43m        \u001b[49m\u001b[43mlabels\u001b[49m\u001b[38;5;241;43m=\u001b[39;49m\u001b[43mlabels\u001b[49m\u001b[43m,\u001b[49m\n\u001b[1;32m   1137\u001b[0m \u001b[43m        \u001b[49m\u001b[43mpos_label\u001b[49m\u001b[38;5;241;43m=\u001b[39;49m\u001b[43mpos_label\u001b[49m\u001b[43m,\u001b[49m\n\u001b[1;32m   1138\u001b[0m \u001b[43m        \u001b[49m\u001b[43maverage\u001b[49m\u001b[38;5;241;43m=\u001b[39;49m\u001b[43maverage\u001b[49m\u001b[43m,\u001b[49m\n\u001b[1;32m   1139\u001b[0m \u001b[43m        \u001b[49m\u001b[43msample_weight\u001b[49m\u001b[38;5;241;43m=\u001b[39;49m\u001b[43msample_weight\u001b[49m\u001b[43m,\u001b[49m\n\u001b[1;32m   1140\u001b[0m \u001b[43m        \u001b[49m\u001b[43mzero_division\u001b[49m\u001b[38;5;241;43m=\u001b[39;49m\u001b[43mzero_division\u001b[49m\u001b[43m,\u001b[49m\n\u001b[1;32m   1141\u001b[0m \u001b[43m    \u001b[49m\u001b[43m)\u001b[49m\n",
      "File \u001b[0;32m~/.local/share/virtualenvs/yes-i-hate-it-v7PC6w8P/lib/python3.8/site-packages/sklearn/metrics/_classification.py:1270\u001b[0m, in \u001b[0;36mfbeta_score\u001b[0;34m(y_true, y_pred, beta, labels, pos_label, average, sample_weight, zero_division)\u001b[0m\n\u001b[1;32m   1144\u001b[0m \u001b[38;5;28;01mdef\u001b[39;00m \u001b[38;5;21mfbeta_score\u001b[39m(\n\u001b[1;32m   1145\u001b[0m     y_true,\n\u001b[1;32m   1146\u001b[0m     y_pred,\n\u001b[0;32m   (...)\u001b[0m\n\u001b[1;32m   1153\u001b[0m     zero_division\u001b[38;5;241m=\u001b[39m\u001b[38;5;124m\"\u001b[39m\u001b[38;5;124mwarn\u001b[39m\u001b[38;5;124m\"\u001b[39m,\n\u001b[1;32m   1154\u001b[0m ):\n\u001b[1;32m   1155\u001b[0m     \u001b[38;5;124;03m\"\"\"Compute the F-beta score.\u001b[39;00m\n\u001b[1;32m   1156\u001b[0m \n\u001b[1;32m   1157\u001b[0m \u001b[38;5;124;03m    The F-beta score is the weighted harmonic mean of precision and recall,\u001b[39;00m\n\u001b[0;32m   (...)\u001b[0m\n\u001b[1;32m   1267\u001b[0m \u001b[38;5;124;03m    array([0.71..., 0.        , 0.        ])\u001b[39;00m\n\u001b[1;32m   1268\u001b[0m \u001b[38;5;124;03m    \"\"\"\u001b[39;00m\n\u001b[0;32m-> 1270\u001b[0m     _, _, f, _ \u001b[38;5;241m=\u001b[39m \u001b[43mprecision_recall_fscore_support\u001b[49m\u001b[43m(\u001b[49m\n\u001b[1;32m   1271\u001b[0m \u001b[43m        \u001b[49m\u001b[43my_true\u001b[49m\u001b[43m,\u001b[49m\n\u001b[1;32m   1272\u001b[0m \u001b[43m        \u001b[49m\u001b[43my_pred\u001b[49m\u001b[43m,\u001b[49m\n\u001b[1;32m   1273\u001b[0m \u001b[43m        \u001b[49m\u001b[43mbeta\u001b[49m\u001b[38;5;241;43m=\u001b[39;49m\u001b[43mbeta\u001b[49m\u001b[43m,\u001b[49m\n\u001b[1;32m   1274\u001b[0m \u001b[43m        \u001b[49m\u001b[43mlabels\u001b[49m\u001b[38;5;241;43m=\u001b[39;49m\u001b[43mlabels\u001b[49m\u001b[43m,\u001b[49m\n\u001b[1;32m   1275\u001b[0m \u001b[43m        \u001b[49m\u001b[43mpos_label\u001b[49m\u001b[38;5;241;43m=\u001b[39;49m\u001b[43mpos_label\u001b[49m\u001b[43m,\u001b[49m\n\u001b[1;32m   1276\u001b[0m \u001b[43m        \u001b[49m\u001b[43maverage\u001b[49m\u001b[38;5;241;43m=\u001b[39;49m\u001b[43maverage\u001b[49m\u001b[43m,\u001b[49m\n\u001b[1;32m   1277\u001b[0m \u001b[43m        \u001b[49m\u001b[43mwarn_for\u001b[49m\u001b[38;5;241;43m=\u001b[39;49m\u001b[43m(\u001b[49m\u001b[38;5;124;43m\"\u001b[39;49m\u001b[38;5;124;43mf-score\u001b[39;49m\u001b[38;5;124;43m\"\u001b[39;49m\u001b[43m,\u001b[49m\u001b[43m)\u001b[49m\u001b[43m,\u001b[49m\n\u001b[1;32m   1278\u001b[0m \u001b[43m        \u001b[49m\u001b[43msample_weight\u001b[49m\u001b[38;5;241;43m=\u001b[39;49m\u001b[43msample_weight\u001b[49m\u001b[43m,\u001b[49m\n\u001b[1;32m   1279\u001b[0m \u001b[43m        \u001b[49m\u001b[43mzero_division\u001b[49m\u001b[38;5;241;43m=\u001b[39;49m\u001b[43mzero_division\u001b[49m\u001b[43m,\u001b[49m\n\u001b[1;32m   1280\u001b[0m \u001b[43m    \u001b[49m\u001b[43m)\u001b[49m\n\u001b[1;32m   1281\u001b[0m     \u001b[38;5;28;01mreturn\u001b[39;00m f\n",
      "File \u001b[0;32m~/.local/share/virtualenvs/yes-i-hate-it-v7PC6w8P/lib/python3.8/site-packages/sklearn/metrics/_classification.py:1556\u001b[0m, in \u001b[0;36mprecision_recall_fscore_support\u001b[0;34m(y_true, y_pred, beta, labels, pos_label, average, warn_for, sample_weight, zero_division)\u001b[0m\n\u001b[1;32m   1554\u001b[0m \u001b[38;5;28;01mif\u001b[39;00m beta \u001b[38;5;241m<\u001b[39m \u001b[38;5;241m0\u001b[39m:\n\u001b[1;32m   1555\u001b[0m     \u001b[38;5;28;01mraise\u001b[39;00m \u001b[38;5;167;01mValueError\u001b[39;00m(\u001b[38;5;124m\"\u001b[39m\u001b[38;5;124mbeta should be >=0 in the F-beta score\u001b[39m\u001b[38;5;124m\"\u001b[39m)\n\u001b[0;32m-> 1556\u001b[0m labels \u001b[38;5;241m=\u001b[39m \u001b[43m_check_set_wise_labels\u001b[49m\u001b[43m(\u001b[49m\u001b[43my_true\u001b[49m\u001b[43m,\u001b[49m\u001b[43m \u001b[49m\u001b[43my_pred\u001b[49m\u001b[43m,\u001b[49m\u001b[43m \u001b[49m\u001b[43maverage\u001b[49m\u001b[43m,\u001b[49m\u001b[43m \u001b[49m\u001b[43mlabels\u001b[49m\u001b[43m,\u001b[49m\u001b[43m \u001b[49m\u001b[43mpos_label\u001b[49m\u001b[43m)\u001b[49m\n\u001b[1;32m   1558\u001b[0m \u001b[38;5;66;03m# Calculate tp_sum, pred_sum, true_sum ###\u001b[39;00m\n\u001b[1;32m   1559\u001b[0m samplewise \u001b[38;5;241m=\u001b[39m average \u001b[38;5;241m==\u001b[39m \u001b[38;5;124m\"\u001b[39m\u001b[38;5;124msamples\u001b[39m\u001b[38;5;124m\"\u001b[39m\n",
      "File \u001b[0;32m~/.local/share/virtualenvs/yes-i-hate-it-v7PC6w8P/lib/python3.8/site-packages/sklearn/metrics/_classification.py:1357\u001b[0m, in \u001b[0;36m_check_set_wise_labels\u001b[0;34m(y_true, y_pred, average, labels, pos_label)\u001b[0m\n\u001b[1;32m   1354\u001b[0m \u001b[38;5;28;01mif\u001b[39;00m average \u001b[38;5;129;01mnot\u001b[39;00m \u001b[38;5;129;01min\u001b[39;00m average_options \u001b[38;5;129;01mand\u001b[39;00m average \u001b[38;5;241m!=\u001b[39m \u001b[38;5;124m\"\u001b[39m\u001b[38;5;124mbinary\u001b[39m\u001b[38;5;124m\"\u001b[39m:\n\u001b[1;32m   1355\u001b[0m     \u001b[38;5;28;01mraise\u001b[39;00m \u001b[38;5;167;01mValueError\u001b[39;00m(\u001b[38;5;124m\"\u001b[39m\u001b[38;5;124maverage has to be one of \u001b[39m\u001b[38;5;124m\"\u001b[39m \u001b[38;5;241m+\u001b[39m \u001b[38;5;28mstr\u001b[39m(average_options))\n\u001b[0;32m-> 1357\u001b[0m y_type, y_true, y_pred \u001b[38;5;241m=\u001b[39m \u001b[43m_check_targets\u001b[49m\u001b[43m(\u001b[49m\u001b[43my_true\u001b[49m\u001b[43m,\u001b[49m\u001b[43m \u001b[49m\u001b[43my_pred\u001b[49m\u001b[43m)\u001b[49m\n\u001b[1;32m   1358\u001b[0m \u001b[38;5;66;03m# Convert to Python primitive type to avoid NumPy type / Python str\u001b[39;00m\n\u001b[1;32m   1359\u001b[0m \u001b[38;5;66;03m# comparison. See https://github.com/numpy/numpy/issues/6784\u001b[39;00m\n\u001b[1;32m   1360\u001b[0m present_labels \u001b[38;5;241m=\u001b[39m unique_labels(y_true, y_pred)\u001b[38;5;241m.\u001b[39mtolist()\n",
      "File \u001b[0;32m~/.local/share/virtualenvs/yes-i-hate-it-v7PC6w8P/lib/python3.8/site-packages/sklearn/metrics/_classification.py:93\u001b[0m, in \u001b[0;36m_check_targets\u001b[0;34m(y_true, y_pred)\u001b[0m\n\u001b[1;32m     90\u001b[0m     y_type \u001b[38;5;241m=\u001b[39m {\u001b[38;5;124m\"\u001b[39m\u001b[38;5;124mmulticlass\u001b[39m\u001b[38;5;124m\"\u001b[39m}\n\u001b[1;32m     92\u001b[0m \u001b[38;5;28;01mif\u001b[39;00m \u001b[38;5;28mlen\u001b[39m(y_type) \u001b[38;5;241m>\u001b[39m \u001b[38;5;241m1\u001b[39m:\n\u001b[0;32m---> 93\u001b[0m     \u001b[38;5;28;01mraise\u001b[39;00m \u001b[38;5;167;01mValueError\u001b[39;00m(\n\u001b[1;32m     94\u001b[0m         \u001b[38;5;124m\"\u001b[39m\u001b[38;5;124mClassification metrics can\u001b[39m\u001b[38;5;124m'\u001b[39m\u001b[38;5;124mt handle a mix of \u001b[39m\u001b[38;5;132;01m{0}\u001b[39;00m\u001b[38;5;124m and \u001b[39m\u001b[38;5;132;01m{1}\u001b[39;00m\u001b[38;5;124m targets\u001b[39m\u001b[38;5;124m\"\u001b[39m\u001b[38;5;241m.\u001b[39mformat(\n\u001b[1;32m     95\u001b[0m             type_true, type_pred\n\u001b[1;32m     96\u001b[0m         )\n\u001b[1;32m     97\u001b[0m     )\n\u001b[1;32m     99\u001b[0m \u001b[38;5;66;03m# We can't have more than one value on y_type => The set is no more needed\u001b[39;00m\n\u001b[1;32m    100\u001b[0m y_type \u001b[38;5;241m=\u001b[39m y_type\u001b[38;5;241m.\u001b[39mpop()\n",
      "\u001b[0;31mValueError\u001b[0m: Classification metrics can't handle a mix of binary and continuous targets"
     ]
    }
   ],
   "source": [
    "import sklearn\n",
    "import numpy as np\n",
    "\n",
    "gen_test = generator(data_test, 32)\n",
    "\n",
    "y_test = []\n",
    "y_pred = []\n",
    "x_test_batch, y_test_batch = next(gen_test)\n",
    "model.predict(x_test_batch)\n",
    "\n",
    "for _ in range(len(data_test) // 32):\n",
    "    x_test_batch, y_test_batch = next(gen_test)\n",
    "    y_pred_batch = np.clip(model.predict(x_test_batch), 0, 1)\n",
    "    y_test += list(y_test_batch)\n",
    "    y_pred += list(y_pred_batch)\n",
    "\n",
    "print(f\"test {sklearn.metrics.f1_score(y_test, y_pred)}\")"
   ]
  },
  {
   "cell_type": "code",
   "execution_count": null,
   "id": "fd6ca5dd",
   "metadata": {},
   "outputs": [],
   "source": [
    "def predict(text, tokenizer):\n",
    "    length = len(text.split(' '))\n",
    "    x = preprocessing.sequence.pad_sequences(tokenizer.texts_to_sequences(text), length)\n",
    "    predict = np.clip(model.predict(x), 0, 1)\n",
    "    print(predict)\n",
    "    return 0\n",
    "\n",
    "print(predict('viva el futbol, fernando torres y el atleti', tokenizer))"
   ]
  },
  {
   "cell_type": "code",
   "execution_count": null,
   "id": "f711eee1",
   "metadata": {},
   "outputs": [],
   "source": []
  }
 ],
 "metadata": {
  "kernelspec": {
   "display_name": "Python 3 (ipykernel)",
   "language": "python",
   "name": "python3"
  },
  "language_info": {
   "codemirror_mode": {
    "name": "ipython",
    "version": 3
   },
   "file_extension": ".py",
   "mimetype": "text/x-python",
   "name": "python",
   "nbconvert_exporter": "python",
   "pygments_lexer": "ipython3",
   "version": "3.8.13"
  }
 },
 "nbformat": 4,
 "nbformat_minor": 5
}
