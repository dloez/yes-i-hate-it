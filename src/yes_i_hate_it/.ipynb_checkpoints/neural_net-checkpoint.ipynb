{
 "cells": [
  {
   "cell_type": "code",
   "execution_count": 1,
   "id": "30634cc5",
   "metadata": {},
   "outputs": [],
   "source": [
    "import numpy as np\n",
    "import pandas as pd\n",
    "import matplotlib.pyplot as plt\n",
    "import tensorflow as tf\n",
    "from sqlalchemy.orm import sessionmaker\n",
    "from sqlalchemy import create_engine\n",
    "from pathlib import Path\n",
    "\n",
    "from yes_i_hate_it.gather_tweets import Tweet\n",
    "from yes_i_hate_it.config import TWEETS_DB_PATH"
   ]
  },
  {
   "cell_type": "markdown",
   "id": "2760df60",
   "metadata": {},
   "source": [
    "read dataset"
   ]
  },
  {
   "cell_type": "code",
   "execution_count": 2,
   "id": "9cb8d6b2",
   "metadata": {},
   "outputs": [
    {
     "data": {
      "text/plain": [
       "PosixPath('../../data/tweets.sqlite')"
      ]
     },
     "execution_count": 2,
     "metadata": {},
     "output_type": "execute_result"
    }
   ],
   "source": [
    "data_path = Path('../../')/TWEETS_DB_PATH\n",
    "data_path"
   ]
  },
  {
   "cell_type": "code",
   "execution_count": 3,
   "id": "1cdfd4c3",
   "metadata": {},
   "outputs": [
    {
     "name": "stdout",
     "output_type": "stream",
     "text": [
      "<class 'list'>\n"
     ]
    }
   ],
   "source": [
    "engine = create_engine(f'sqlite:///{data_path}')\n",
    "session_maker = sessionmaker(bind=engine)\n",
    "session = session_maker()\n",
    "tweets = session.query(Tweet).filter(Tweet.processed==False).all()\n",
    "print(type(tweets))"
   ]
  },
  {
   "cell_type": "code",
   "execution_count": 4,
   "id": "ca018ffb",
   "metadata": {},
   "outputs": [
    {
     "name": "stderr",
     "output_type": "stream",
     "text": [
      "[nltk_data] Downloading package stopwords to /home/inigo/nltk_data...\n",
      "[nltk_data]   Package stopwords is already up-to-date!\n"
     ]
    },
    {
     "data": {
      "text/html": [
       "<div>\n",
       "<style scoped>\n",
       "    .dataframe tbody tr th:only-of-type {\n",
       "        vertical-align: middle;\n",
       "    }\n",
       "\n",
       "    .dataframe tbody tr th {\n",
       "        vertical-align: top;\n",
       "    }\n",
       "\n",
       "    .dataframe thead th {\n",
       "        text-align: right;\n",
       "    }\n",
       "</style>\n",
       "<table border=\"1\" class=\"dataframe\">\n",
       "  <thead>\n",
       "    <tr style=\"text-align: right;\">\n",
       "      <th></th>\n",
       "      <th>text</th>\n",
       "      <th>is_football</th>\n",
       "    </tr>\n",
       "  </thead>\n",
       "  <tbody>\n",
       "    <tr>\n",
       "      <th>0</th>\n",
       "      <td>RT @LaLiga: 2015/16 🏆👊\\n2016/17 🏆👊\\n2017/18 🏆👊...</td>\n",
       "      <td>1</td>\n",
       "    </tr>\n",
       "    <tr>\n",
       "      <th>1</th>\n",
       "      <td>RT @Atleti: La familia atlética está de luto. ...</td>\n",
       "      <td>1</td>\n",
       "    </tr>\n",
       "    <tr>\n",
       "      <th>2</th>\n",
       "      <td>El fichaje de Mario Hermoso se congela.\\n\\nAl ...</td>\n",
       "      <td>1</td>\n",
       "    </tr>\n",
       "    <tr>\n",
       "      <th>3</th>\n",
       "      <td>#FernandoTorres: \"No se a quién echarán más de...</td>\n",
       "      <td>1</td>\n",
       "    </tr>\n",
       "    <tr>\n",
       "      <th>4</th>\n",
       "      <td>James Rodríguez esperaría al Atlético.\\n\\nEl j...</td>\n",
       "      <td>1</td>\n",
       "    </tr>\n",
       "    <tr>\n",
       "      <th>...</th>\n",
       "      <td>...</td>\n",
       "      <td>...</td>\n",
       "    </tr>\n",
       "    <tr>\n",
       "      <th>11140</th>\n",
       "      <td>RT @ESLspain: #ENDIRECTO 🖥\\n🔴 Estamos ON, en l...</td>\n",
       "      <td>0</td>\n",
       "    </tr>\n",
       "    <tr>\n",
       "      <th>11141</th>\n",
       "      <td>RT @Boltz: Gg 9-16 vs Furia, n entrei no game ...</td>\n",
       "      <td>0</td>\n",
       "    </tr>\n",
       "    <tr>\n",
       "      <th>11142</th>\n",
       "      <td>RT @Yusef210: Vamos con el ultimo Bo1 del día,...</td>\n",
       "      <td>0</td>\n",
       "    </tr>\n",
       "    <tr>\n",
       "      <th>11143</th>\n",
       "      <td>¡Felicidades a todo el equipo de @hora25! \\n\\n...</td>\n",
       "      <td>0</td>\n",
       "    </tr>\n",
       "    <tr>\n",
       "      <th>11144</th>\n",
       "      <td>RT @Muit0z: Vamos a por el ultimo bo1 que cast...</td>\n",
       "      <td>0</td>\n",
       "    </tr>\n",
       "  </tbody>\n",
       "</table>\n",
       "<p>11145 rows × 2 columns</p>\n",
       "</div>"
      ],
      "text/plain": [
       "                                                    text  is_football\n",
       "0      RT @LaLiga: 2015/16 🏆👊\\n2016/17 🏆👊\\n2017/18 🏆👊...            1\n",
       "1      RT @Atleti: La familia atlética está de luto. ...            1\n",
       "2      El fichaje de Mario Hermoso se congela.\\n\\nAl ...            1\n",
       "3      #FernandoTorres: \"No se a quién echarán más de...            1\n",
       "4      James Rodríguez esperaría al Atlético.\\n\\nEl j...            1\n",
       "...                                                  ...          ...\n",
       "11140  RT @ESLspain: #ENDIRECTO 🖥\\n🔴 Estamos ON, en l...            0\n",
       "11141  RT @Boltz: Gg 9-16 vs Furia, n entrei no game ...            0\n",
       "11142  RT @Yusef210: Vamos con el ultimo Bo1 del día,...            0\n",
       "11143  ¡Felicidades a todo el equipo de @hora25! \\n\\n...            0\n",
       "11144  RT @Muit0z: Vamos a por el ultimo bo1 que cast...            0\n",
       "\n",
       "[11145 rows x 2 columns]"
      ]
     },
     "execution_count": 4,
     "metadata": {},
     "output_type": "execute_result"
    }
   ],
   "source": [
    "from yes_i_hate_it.generate_bow import process_text\n",
    "\n",
    "d = {'text': [tweet.text for tweet in tweets],\n",
    "     'is_football': [1 if tweet.is_football else 0 for tweet in tweets]}\n",
    "\n",
    "data = pd.DataFrame(d)\n",
    "\n",
    "data"
   ]
  },
  {
   "cell_type": "code",
   "execution_count": 5,
   "id": "040a04bb",
   "metadata": {},
   "outputs": [
    {
     "name": "stderr",
     "output_type": "stream",
     "text": [
      "[nltk_data] Downloading package stopwords to /home/inigo/nltk_data...\n",
      "[nltk_data]   Package stopwords is already up-to-date!\n"
     ]
    },
    {
     "name": "stdout",
     "output_type": "stream",
     "text": [
      "<class 'str'>\n"
     ]
    },
    {
     "data": {
      "text/html": [
       "<div>\n",
       "<style scoped>\n",
       "    .dataframe tbody tr th:only-of-type {\n",
       "        vertical-align: middle;\n",
       "    }\n",
       "\n",
       "    .dataframe tbody tr th {\n",
       "        vertical-align: top;\n",
       "    }\n",
       "\n",
       "    .dataframe thead th {\n",
       "        text-align: right;\n",
       "    }\n",
       "</style>\n",
       "<table border=\"1\" class=\"dataframe\">\n",
       "  <thead>\n",
       "    <tr style=\"text-align: right;\">\n",
       "      <th></th>\n",
       "      <th>text</th>\n",
       "      <th>is_football</th>\n",
       "      <th>pp_text</th>\n",
       "      <th>n_words</th>\n",
       "    </tr>\n",
       "  </thead>\n",
       "  <tbody>\n",
       "    <tr>\n",
       "      <th>0</th>\n",
       "      <td>RT @LaLiga: 2015/16 🏆👊\\n2016/17 🏆👊\\n2017/18 🏆👊...</td>\n",
       "      <td>1</td>\n",
       "      <td>rt lalig 2015 16 2016 17 2017 18 2018 19 un po...</td>\n",
       "      <td>20</td>\n",
       "    </tr>\n",
       "    <tr>\n",
       "      <th>1</th>\n",
       "      <td>RT @Atleti: La familia atlética está de luto. ...</td>\n",
       "      <td>1</td>\n",
       "      <td>rt atleti la famili atlet está de lut ha falle...</td>\n",
       "      <td>21</td>\n",
       "    </tr>\n",
       "    <tr>\n",
       "      <th>2</th>\n",
       "      <td>El fichaje de Mario Hermoso se congela.\\n\\nAl ...</td>\n",
       "      <td>1</td>\n",
       "      <td>el fichaj de mari hermos se congel al parec lo...</td>\n",
       "      <td>54</td>\n",
       "    </tr>\n",
       "    <tr>\n",
       "      <th>3</th>\n",
       "      <td>#FernandoTorres: \"No se a quién echarán más de...</td>\n",
       "      <td>1</td>\n",
       "      <td>fernandotorr no se a quien echaran más de men ...</td>\n",
       "      <td>54</td>\n",
       "    </tr>\n",
       "    <tr>\n",
       "      <th>4</th>\n",
       "      <td>James Rodríguez esperaría al Atlético.\\n\\nEl j...</td>\n",
       "      <td>1</td>\n",
       "      <td>jam rodriguez esper al atlet el jugador sab qu...</td>\n",
       "      <td>45</td>\n",
       "    </tr>\n",
       "  </tbody>\n",
       "</table>\n",
       "</div>"
      ],
      "text/plain": [
       "                                                text  is_football  \\\n",
       "0  RT @LaLiga: 2015/16 🏆👊\\n2016/17 🏆👊\\n2017/18 🏆👊...            1   \n",
       "1  RT @Atleti: La familia atlética está de luto. ...            1   \n",
       "2  El fichaje de Mario Hermoso se congela.\\n\\nAl ...            1   \n",
       "3  #FernandoTorres: \"No se a quién echarán más de...            1   \n",
       "4  James Rodríguez esperaría al Atlético.\\n\\nEl j...            1   \n",
       "\n",
       "                                             pp_text  n_words  \n",
       "0  rt lalig 2015 16 2016 17 2017 18 2018 19 un po...       20  \n",
       "1  rt atleti la famili atlet está de lut ha falle...       21  \n",
       "2  el fichaj de mari hermos se congel al parec lo...       54  \n",
       "3  fernandotorr no se a quien echaran más de men ...       54  \n",
       "4  jam rodriguez esper al atlet el jugador sab qu...       45  "
      ]
     },
     "execution_count": 5,
     "metadata": {},
     "output_type": "execute_result"
    }
   ],
   "source": [
    "import nltk\n",
    "nltk.download('stopwords')\n",
    "\n",
    "from nltk.stem.snowball import SnowballStemmer\n",
    "from nltk.tokenize import RegexpTokenizer\n",
    "\n",
    "tokenizer = RegexpTokenizer(r'\\w+')\n",
    "stemmer = SnowballStemmer(\"spanish\",ignore_stopwords=True)\n",
    "\n",
    "preprocessed_text = []\n",
    "for i in data.text:\n",
    "    tokens = [stemmer.stem(word) for word in tokenizer.tokenize(i.lower())]\n",
    "    preprocessed_text.append(np.array(' '.join(tokens)))\n",
    "    \n",
    "data['pp_text'] = preprocessed_text\n",
    "data['pp_text'] = data['pp_text'].astype('str')\n",
    "print(type(data['pp_text'][0]))\n",
    "data['n_words'] = data['pp_text'].str.split().apply(len)\n",
    "\n",
    "data = data.sample(frac=1).reset_index(drop=True)\n",
    "\n",
    "data.head()"
   ]
  },
  {
   "cell_type": "code",
   "execution_count": 6,
   "id": "42c90b52",
   "metadata": {},
   "outputs": [
    {
     "data": {
      "text/plain": [
       "<AxesSubplot:>"
      ]
     },
     "execution_count": 6,
     "metadata": {},
     "output_type": "execute_result"
    },
    {
     "data": {
      "image/png": "[encoded data removed]",
      "text/plain": [
       "<Figure size 432x288 with 1 Axes>"
      ]
     },
     "metadata": {
      "needs_background": "light"
     },
     "output_type": "display_data"
    }
   ],
   "source": [
    "data['n_words'].hist()"
   ]
  },
  {
   "cell_type": "code",
   "execution_count": 7,
   "id": "77876c58",
   "metadata": {},
   "outputs": [],
   "source": [
    "from tensorflow.keras import preprocessing\n",
    "\n",
    "tokenizer = preprocessing.text.Tokenizer()\n",
    "\n",
    "tokenizer.fit_on_texts(data['pp_text'])\n"
   ]
  },
  {
   "cell_type": "code",
   "execution_count": 8,
   "id": "59f165ec",
   "metadata": {},
   "outputs": [],
   "source": [
    "def generator(data, size):\n",
    "    idx = 0\n",
    "    \n",
    "    while True:\n",
    "        data_nxt = data.iloc[idx:idx+size]\n",
    "        max_len = data_nxt['n_words'].max()+1\n",
    "        \n",
    "        x_batch = preprocessing.sequence.pad_sequences(tokenizer.texts_to_sequences(data_nxt['pp_text']), max_len)\n",
    "        y_batch = data_nxt['is_football'].values\n",
    "        \n",
    "        yield x_batch, y_batch\n",
    "        \n",
    "        idx = (idx + size) % len(data)"
   ]
  },
  {
   "cell_type": "code",
   "execution_count": 9,
   "id": "70a0d7e4",
   "metadata": {},
   "outputs": [
    {
     "name": "stderr",
     "output_type": "stream",
     "text": [
      "2022-07-19 21:18:30.708886: I tensorflow/stream_executor/cuda/cuda_gpu_executor.cc:975] successful NUMA node read from SysFS had negative value (-1), but there must be at least one NUMA node, so returning NUMA node zero\n",
      "2022-07-19 21:18:30.732069: I tensorflow/stream_executor/cuda/cuda_gpu_executor.cc:975] successful NUMA node read from SysFS had negative value (-1), but there must be at least one NUMA node, so returning NUMA node zero\n",
      "2022-07-19 21:18:30.732214: I tensorflow/stream_executor/cuda/cuda_gpu_executor.cc:975] successful NUMA node read from SysFS had negative value (-1), but there must be at least one NUMA node, so returning NUMA node zero\n",
      "2022-07-19 21:18:30.733027: I tensorflow/core/platform/cpu_feature_guard.cc:193] This TensorFlow binary is optimized with oneAPI Deep Neural Network Library (oneDNN) to use the following CPU instructions in performance-critical operations:  AVX2 FMA\n",
      "To enable them in other operations, rebuild TensorFlow with the appropriate compiler flags.\n",
      "2022-07-19 21:18:30.733900: I tensorflow/stream_executor/cuda/cuda_gpu_executor.cc:975] successful NUMA node read from SysFS had negative value (-1), but there must be at least one NUMA node, so returning NUMA node zero\n",
      "2022-07-19 21:18:30.734038: I tensorflow/stream_executor/cuda/cuda_gpu_executor.cc:975] successful NUMA node read from SysFS had negative value (-1), but there must be at least one NUMA node, so returning NUMA node zero\n",
      "2022-07-19 21:18:30.734135: I tensorflow/stream_executor/cuda/cuda_gpu_executor.cc:975] successful NUMA node read from SysFS had negative value (-1), but there must be at least one NUMA node, so returning NUMA node zero\n",
      "2022-07-19 21:18:31.040785: I tensorflow/stream_executor/cuda/cuda_gpu_executor.cc:975] successful NUMA node read from SysFS had negative value (-1), but there must be at least one NUMA node, so returning NUMA node zero\n",
      "2022-07-19 21:18:31.040937: I tensorflow/stream_executor/cuda/cuda_gpu_executor.cc:975] successful NUMA node read from SysFS had negative value (-1), but there must be at least one NUMA node, so returning NUMA node zero\n",
      "2022-07-19 21:18:31.041039: I tensorflow/stream_executor/cuda/cuda_gpu_executor.cc:975] successful NUMA node read from SysFS had negative value (-1), but there must be at least one NUMA node, so returning NUMA node zero\n",
      "2022-07-19 21:18:31.041116: I tensorflow/core/common_runtime/gpu/gpu_device.cc:1532] Created device /job:localhost/replica:0/task:0/device:GPU:0 with 3084 MB memory:  -> device: 0, name: NVIDIA GeForce GTX 1050 Ti, pci bus id: 0000:01:00.0, compute capability: 6.1\n"
     ]
    }
   ],
   "source": [
    "from tensorflow.keras import Sequential, layers\n",
    "\n",
    "max_features = 1+len(tokenizer.word_index)\n",
    "embedding_dims = 100\n",
    "N = 128\n",
    "\n",
    "\n",
    "model = Sequential(\n",
    "    [\n",
    "        layers.InputLayer((None,)),\n",
    "        layers.Embedding(input_dim=max_features, output_dim=embedding_dims),\n",
    "        layers.Dropout(0.2),\n",
    "        layers.LSTM(units=N, return_sequences=True),\n",
    "        layers.LSTM(units=N, return_sequences=True),\n",
    "        layers.LSTM(units=N, return_sequences=True),\n",
    "        layers.LSTM(units=N),\n",
    "        layers.Dense(1, activation='sigmoid')\n",
    "    ]\n",
    ")\n",
    "\n",
    "model.compile(optimizer = 'adam', loss = 'binary_crossentropy')"
   ]
  },
  {
   "cell_type": "code",
   "execution_count": 10,
   "id": "407decda",
   "metadata": {},
   "outputs": [],
   "source": [
    "n = int(len(data)*0.9)\n",
    "\n",
    "data_train = data.iloc[:n].copy()\n",
    "data_test = data.iloc[n:].copy()"
   ]
  },
  {
   "cell_type": "code",
   "execution_count": 11,
   "id": "346be335",
   "metadata": {},
   "outputs": [
    {
     "data": {
      "text/plain": [
       "0        rt lalig 2015 16 2016 17 2017 18 2018 19 un po...\n",
       "1        rt atleti la famili atlet está de lut ha falle...\n",
       "2        el fichaj de mari hermos se congel al parec lo...\n",
       "3        fernandotorr no se a quien echaran más de men ...\n",
       "4        jam rodriguez esper al atlet el jugador sab qu...\n",
       "                               ...                        \n",
       "10025                        damasoferi facil si tú lo dic\n",
       "10026    hoy cumpl un nuev compromis fij un top al prec...\n",
       "10027    estoy total ilusion de car a la tempor que vie...\n",
       "10028    bua me he pas tod la mañan mir los cuadr que h...\n",
       "10029                 canalisback los acab de gaf sin quer\n",
       "Name: pp_text, Length: 10030, dtype: object"
      ]
     },
     "execution_count": 11,
     "metadata": {},
     "output_type": "execute_result"
    }
   ],
   "source": [
    "data_train['pp_text']"
   ]
  },
  {
   "cell_type": "code",
   "execution_count": 13,
   "id": "43b47873",
   "metadata": {},
   "outputs": [
    {
     "name": "stdout",
     "output_type": "stream",
     "text": [
      "Epoch 1/25\n",
      "313/313 [==============================] - 5s 15ms/step - loss: 0.0068 - val_loss: 1.6968e-04\n",
      "Epoch 2/25\n",
      "313/313 [==============================] - 5s 15ms/step - loss: 0.0066 - val_loss: 2.9701e-04\n",
      "Epoch 3/25\n",
      "313/313 [==============================] - 5s 16ms/step - loss: 0.0053 - val_loss: 0.0123\n",
      "Epoch 4/25\n",
      "313/313 [==============================] - 5s 16ms/step - loss: 0.0049 - val_loss: 0.0056\n",
      "Epoch 5/25\n",
      "313/313 [==============================] - 5s 15ms/step - loss: 0.0054 - val_loss: 1.3430e-04\n",
      "Epoch 6/25\n",
      "313/313 [==============================] - 5s 15ms/step - loss: 0.0059 - val_loss: 1.6639e-04\n",
      "Epoch 7/25\n",
      "313/313 [==============================] - 5s 15ms/step - loss: 0.0065 - val_loss: 9.2985e-04\n",
      "Epoch 8/25\n",
      "313/313 [==============================] - 5s 15ms/step - loss: 0.0138 - val_loss: 0.0039\n",
      "Epoch 9/25\n",
      "313/313 [==============================] - 5s 15ms/step - loss: 0.0093 - val_loss: 0.0130\n",
      "Epoch 10/25\n",
      "313/313 [==============================] - 5s 16ms/step - loss: 0.0077 - val_loss: 0.0076\n",
      "Epoch 11/25\n",
      "313/313 [==============================] - 5s 15ms/step - loss: 0.0063 - val_loss: 7.2130e-05\n",
      "Epoch 12/25\n",
      "313/313 [==============================] - 5s 15ms/step - loss: 0.0056 - val_loss: 0.0110\n",
      "Epoch 13/25\n",
      "313/313 [==============================] - 5s 16ms/step - loss: 0.0055 - val_loss: 0.0179\n",
      "Epoch 14/25\n",
      "313/313 [==============================] - 5s 15ms/step - loss: 0.0047 - val_loss: 0.0641\n",
      "Epoch 15/25\n",
      "313/313 [==============================] - 5s 15ms/step - loss: 0.0039 - val_loss: 0.0110\n",
      "Epoch 16/25\n",
      "313/313 [==============================] - 5s 17ms/step - loss: 0.0042 - val_loss: 2.3057e-05\n",
      "Epoch 17/25\n",
      "313/313 [==============================] - 5s 16ms/step - loss: 0.0043 - val_loss: 7.9833e-05\n",
      "Epoch 18/25\n",
      "313/313 [==============================] - 5s 16ms/step - loss: 0.0064 - val_loss: 0.0515\n",
      "Epoch 19/25\n",
      "313/313 [==============================] - 5s 16ms/step - loss: 0.0063 - val_loss: 0.0018\n",
      "Epoch 20/25\n",
      "313/313 [==============================] - 5s 15ms/step - loss: 0.0054 - val_loss: 0.0109\n",
      "Epoch 21/25\n",
      "313/313 [==============================] - 5s 15ms/step - loss: 0.0055 - val_loss: 0.0122\n",
      "Epoch 22/25\n",
      "313/313 [==============================] - 5s 16ms/step - loss: 0.0040 - val_loss: 0.0183\n",
      "Epoch 23/25\n",
      "313/313 [==============================] - 5s 15ms/step - loss: 0.0051 - val_loss: 0.0367\n",
      "Epoch 24/25\n",
      "313/313 [==============================] - 5s 15ms/step - loss: 0.0040 - val_loss: 6.2094e-05\n",
      "Epoch 25/25\n",
      "313/313 [==============================] - 5s 15ms/step - loss: 0.0045 - val_loss: 3.3205e-05\n"
     ]
    }
   ],
   "source": [
    "gen_train = generator(data_train, 32)\n",
    "gen_val = generator(data_train, 32)\n",
    "\n",
    "history = model.fit(\n",
    "    gen_train,\n",
    "    steps_per_epoch = len(data_train) // 32,\n",
    "    epochs = 25,\n",
    "    validation_data = gen_val,\n",
    "    validation_steps = 4,\n",
    "    batch_size = 32\n",
    ")"
   ]
  },
  {
   "cell_type": "code",
   "execution_count": 14,
   "id": "ef844612",
   "metadata": {},
   "outputs": [
    {
     "data": {
      "image/png": "[encoded data removed]",
      "text/plain": [
       "<Figure size 432x288 with 1 Axes>"
      ]
     },
     "metadata": {
      "needs_background": "light"
     },
     "output_type": "display_data"
    }
   ],
   "source": [
    "import matplotlib.pyplot as plt\n",
    "\n",
    "def plot_learning_curves(hist):\n",
    "    plt.plot(hist.history['loss'])\n",
    "    plt.plot(hist.history['val_loss'])\n",
    "    plt.title('Curvas de aprendizaje')\n",
    "    plt.ylabel('Loss')\n",
    "    plt.xlabel('Epoch')  \n",
    "    plt.legend(['Conjunto de entrenamiento', 'Conjunto de validación'], loc='upper right')\n",
    "    plt.show()\n",
    "\n",
    "plot_learning_curves(history)"
   ]
  },
  {
   "cell_type": "code",
   "execution_count": 24,
   "id": "5763196b",
   "metadata": {},
   "outputs": [
    {
     "name": "stdout",
     "output_type": "stream",
     "text": [
      "1/1 [==============================] - 0s 11ms/step\n",
      "1/1 [==============================] - 0s 12ms/step\n"
     ]
    },
    {
     "ename": "TypeError",
     "evalue": "only size-1 arrays can be converted to Python scalars",
     "output_type": "error",
     "traceback": [
      "\u001b[0;31m---------------------------------------------------------------------------\u001b[0m",
      "\u001b[0;31mTypeError\u001b[0m                                 Traceback (most recent call last)",
      "Input \u001b[0;32mIn [24]\u001b[0m, in \u001b[0;36m<cell line: 11>\u001b[0;34m()\u001b[0m\n\u001b[1;32m     13\u001b[0m     y_pred_batch \u001b[38;5;241m=\u001b[39m np\u001b[38;5;241m.\u001b[39mclip(model\u001b[38;5;241m.\u001b[39mpredict(x_test_batch), \u001b[38;5;241m0\u001b[39m, \u001b[38;5;241m1\u001b[39m)\n\u001b[1;32m     14\u001b[0m     y_test \u001b[38;5;241m+\u001b[39m\u001b[38;5;241m=\u001b[39m \u001b[38;5;28mlist\u001b[39m(y_test_batch)\n\u001b[0;32m---> 15\u001b[0m     y_pred \u001b[38;5;241m+\u001b[39m\u001b[38;5;241m=\u001b[39m \u001b[38;5;28mlist\u001b[39m(\u001b[38;5;28;43mint\u001b[39;49m\u001b[43m(\u001b[49m\u001b[43my_pred_batch\u001b[49m\u001b[38;5;241;43m.\u001b[39;49m\u001b[43mround\u001b[49m\u001b[43m(\u001b[49m\u001b[38;5;241;43m1\u001b[39;49m\u001b[43m)\u001b[49m\u001b[43m)\u001b[49m)\n\u001b[1;32m     17\u001b[0m \u001b[38;5;28mprint\u001b[39m(y_pred)\n\u001b[1;32m     18\u001b[0m \u001b[38;5;28mprint\u001b[39m(\u001b[38;5;124mf\u001b[39m\u001b[38;5;124m\"\u001b[39m\u001b[38;5;124mtest \u001b[39m\u001b[38;5;132;01m{\u001b[39;00msklearn\u001b[38;5;241m.\u001b[39mmetrics\u001b[38;5;241m.\u001b[39mbalanced_accuracy_score(y_test, y_pred)\u001b[38;5;132;01m}\u001b[39;00m\u001b[38;5;124m\"\u001b[39m)\n",
      "\u001b[0;31mTypeError\u001b[0m: only size-1 arrays can be converted to Python scalars"
     ]
    }
   ],
   "source": [
    "import sklearn\n",
    "import numpy as np\n",
    "\n",
    "gen_test = generator(data_test, 32)\n",
    "\n",
    "y_test = []\n",
    "y_pred = []\n",
    "x_test_batch, y_test_batch = next(gen_test)\n",
    "model.predict(x_test_batch)\n",
    "\n",
    "for _ in range(len(data_test) // 32):\n",
    "    x_test_batch, y_test_batch = next(gen_test)\n",
    "    y_pred_batch = np.clip(model.predict(x_test_batch), 0, 1)\n",
    "    y_test += list(y_test_batch)\n",
    "    y_pred += list(y_pred_batch)\n",
    "\n",
    "print(y_pred)\n",
    "print(f\"test {sklearn.metrics.balanced_accuracy_score(y_test, y_pred)}\")"
   ]
  },
  {
   "cell_type": "code",
   "execution_count": 27,
   "id": "fd6ca5dd",
   "metadata": {},
   "outputs": [
    {
     "name": "stdout",
     "output_type": "stream",
     "text": [
      "2/2 [==============================] - 0s 3ms/step\n",
      "[[1.7210241e-05]\n",
      " [1.5491909e-05]\n",
      " [1.7210241e-05]\n",
      " [3.7912585e-04]\n",
      " [8.2559913e-02]\n",
      " [8.8574709e-03]\n",
      " [8.2123768e-01]\n",
      " [8.2559913e-02]\n",
      " [9.9976832e-01]\n",
      " [8.9901555e-01]\n",
      " [8.4197465e-03]\n",
      " [1.4338769e-01]\n",
      " [4.3049578e-02]\n",
      " [8.2123768e-01]\n",
      " [8.2559913e-02]\n",
      " [8.2559913e-02]\n",
      " [9.9976832e-01]\n",
      " [8.8574709e-03]\n",
      " [1.2040899e-05]\n",
      " [9.9981529e-01]\n",
      " [3.7912585e-04]\n",
      " [9.9981529e-01]\n",
      " [3.0595980e-05]\n",
      " [4.3049578e-02]\n",
      " [8.2559913e-02]\n",
      " [8.4197465e-03]\n",
      " [4.3049578e-02]\n",
      " [1.2040899e-05]\n",
      " [1.2040899e-05]\n",
      " [8.8574709e-03]\n",
      " [8.2285609e-03]\n",
      " [8.2559913e-02]\n",
      " [9.4918013e-02]\n",
      " [8.2559913e-02]\n",
      " [8.8574672e-03]\n",
      " [8.2123762e-01]\n",
      " [8.2559913e-02]\n",
      " [3.7912585e-04]\n",
      " [8.4197428e-03]\n",
      " [8.2123762e-01]\n",
      " [8.8574672e-03]\n",
      " [8.4197428e-03]\n",
      " [1.5491923e-05]]\n"
     ]
    }
   ],
   "source": [
    "def predict(text, tokenizer):\n",
    "    length = len(text.split(' '))\n",
    "    x = preprocessing.sequence.pad_sequences(tokenizer.texts_to_sequences(text), length)\n",
    "    return model.predict(x)\n",
    "\n",
    "print(predict('viva el futbol, fernando torres y el atleti', tokenizer))"
   ]
  },
  {
   "cell_type": "code",
   "execution_count": null,
   "id": "f711eee1",
   "metadata": {},
   "outputs": [],
   "source": []
  }
 ],
 "metadata": {
  "kernelspec": {
   "display_name": "Python 3 (ipykernel)",
   "language": "python",
   "name": "python3"
  },
  "language_info": {
   "codemirror_mode": {
    "name": "ipython",
    "version": 3
   },
   "file_extension": ".py",
   "mimetype": "text/x-python",
   "name": "python",
   "nbconvert_exporter": "python",
   "pygments_lexer": "ipython3",
   "version": "3.8.13"
  }
 },
 "nbformat": 4,
 "nbformat_minor": 5
}
